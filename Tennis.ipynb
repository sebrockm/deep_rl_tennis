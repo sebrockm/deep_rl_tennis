{
 "cells": [
  {
   "cell_type": "markdown",
   "metadata": {},
   "source": [
    "# Tennis\n",
    "\n",
    "---\n",
    "\n",
    "You are welcome to use this coding environment to train your agent for the project.  Follow the instructions below to get started!\n",
    "\n",
    "### 1. Start the Environment"
   ]
  },
  {
   "cell_type": "markdown",
   "metadata": {},
   "source": [
    "The environment should be saved in the Workspace so that it can be accessed at the file path provided below. "
   ]
  },
  {
   "cell_type": "code",
   "execution_count": 2,
   "metadata": {},
   "outputs": [
    {
     "name": "stderr",
     "output_type": "stream",
     "text": [
      "INFO:unityagents:\n",
      "'Academy' started successfully!\n",
      "Unity Academy name: Academy\n",
      "        Number of Brains: 1\n",
      "        Number of External Brains : 1\n",
      "        Lesson number : 0\n",
      "        Reset Parameters :\n",
      "\t\t\n",
      "Unity brain name: TennisBrain\n",
      "        Number of Visual Observations (per agent): 0\n",
      "        Vector Observation space type: continuous\n",
      "        Vector Observation space size (per agent): 8\n",
      "        Number of stacked Vector Observation: 3\n",
      "        Vector Action space type: continuous\n",
      "        Vector Action space size (per agent): 2\n",
      "        Vector Action descriptions: , \n"
     ]
    }
   ],
   "source": [
    "from unityagents import UnityEnvironment\n",
    "import numpy as np\n",
    "\n",
    "env = UnityEnvironment(file_name=\"/data/Tennis_Linux_NoVis/Tennis\")"
   ]
  },
  {
   "cell_type": "markdown",
   "metadata": {},
   "source": [
    "Environments contain **_brains_** which are responsible for deciding the actions of their associated agents. Here we check for the first brain available, and set it as the default brain we will be controlling from Python."
   ]
  },
  {
   "cell_type": "code",
   "execution_count": 3,
   "metadata": {},
   "outputs": [],
   "source": [
    "# get the default brain\n",
    "brain_name = env.brain_names[0]\n",
    "brain = env.brains[brain_name]"
   ]
  },
  {
   "cell_type": "markdown",
   "metadata": {},
   "source": [
    "### 2. Examine the State and Action Spaces\n",
    "\n",
    "Run the code cell below to print some information about the environment."
   ]
  },
  {
   "cell_type": "code",
   "execution_count": 4,
   "metadata": {},
   "outputs": [
    {
     "name": "stdout",
     "output_type": "stream",
     "text": [
      "Number of agents: 2\n",
      "Size of each action: 2\n",
      "There are 2 agents. Each observes a state with length: 24\n",
      "The state for the first agent looks like: [ 0.          0.          0.          0.          0.          0.          0.\n",
      "  0.          0.          0.          0.          0.          0.          0.\n",
      "  0.          0.         -6.65278625 -1.5        -0.          0.\n",
      "  6.83172083  6.         -0.          0.        ]\n"
     ]
    }
   ],
   "source": [
    "# reset the environment\n",
    "env_info = env.reset(train_mode=True)[brain_name]\n",
    "\n",
    "# number of agents \n",
    "num_agents = len(env_info.agents)\n",
    "print('Number of agents:', num_agents)\n",
    "\n",
    "# size of each action\n",
    "action_size = brain.vector_action_space_size\n",
    "print('Size of each action:', action_size)\n",
    "\n",
    "# examine the state space \n",
    "states = env_info.vector_observations\n",
    "state_size = states.shape[1]\n",
    "print('There are {} agents. Each observes a state with length: {}'.format(states.shape[0], state_size))\n",
    "print('The state for the first agent looks like:', states[0])"
   ]
  },
  {
   "cell_type": "markdown",
   "metadata": {},
   "source": [
    "### 3. Determine if GPU can be used"
   ]
  },
  {
   "cell_type": "code",
   "execution_count": 5,
   "metadata": {},
   "outputs": [
    {
     "name": "stdout",
     "output_type": "stream",
     "text": [
      "cpu\n"
     ]
    }
   ],
   "source": [
    "import torch\n",
    "device = torch.device(\"cuda:0\" if torch.cuda.is_available() else \"cpu\")\n",
    "print(device)"
   ]
  },
  {
   "cell_type": "markdown",
   "metadata": {},
   "source": [
    "### 4. Define the actor network"
   ]
  },
  {
   "cell_type": "code",
   "execution_count": 6,
   "metadata": {},
   "outputs": [],
   "source": [
    "import torch.nn as nn\n",
    "import torch.nn.functional as F\n",
    "import torch.optim as optim\n",
    "\n",
    "\n",
    "class Actor(nn.Module):\n",
    "    \"\"\"Actor (Policy) Model.\"\"\"\n",
    "\n",
    "    def __init__(self, n_agents, seed):\n",
    "        \"\"\"Initialize parameters and build model.\n",
    "        Params\n",
    "        ======\n",
    "            seed (int): Random seed\n",
    "        \"\"\"\n",
    "        super(Actor, self).__init__()\n",
    "        self.seed = torch.manual_seed(seed)\n",
    "        self.n_agents = n_agents\n",
    "        \n",
    "        self.hidden_dim_0 = 512\n",
    "        self.hidden_dim = 256\n",
    "        \n",
    "        self.lin0 = nn.Linear(state_size * self.n_agents, self.hidden_dim_0)\n",
    "        self.lin0.weight.data.uniform_(-0.01, 0.01)\n",
    "        self.lin1 = nn.Linear(self.hidden_dim_0, self.hidden_dim)\n",
    "        self.lin1.weight.data.uniform_(-0.01, 0.01)\n",
    "        self.lin2 = nn.Linear(self.hidden_dim, action_size * self.n_agents)\n",
    "        self.lin2.weight.data.uniform_(-0.01, 0.01)\n",
    "\n",
    "    def forward(self, state):\n",
    "        \"\"\"Build a network that maps state -> action values.\"\"\"\n",
    "        x = state.view(-1, state_size * self.n_agents) # collapse the agents' states into one big state for the NN\n",
    "        x = F.relu(self.lin0(x))\n",
    "        x = F.relu(self.lin1(x))\n",
    "        x = F.tanh(self.lin2(x))\n",
    "        return x.view(-1, self.n_agents, action_size) # uncollapse to have one action for each agent "
   ]
  },
  {
   "cell_type": "markdown",
   "metadata": {},
   "source": [
    "### 5. Define the Critic network"
   ]
  },
  {
   "cell_type": "code",
   "execution_count": 7,
   "metadata": {},
   "outputs": [],
   "source": [
    "class Critic(nn.Module):\n",
    "    \"\"\"Critic (Value) Model.\"\"\"\n",
    "\n",
    "    def __init__(self, n_agents, seed):\n",
    "        \"\"\"Initialize parameters and build model.\n",
    "        Params\n",
    "        ======\n",
    "            seed (int): Random seed\n",
    "        \"\"\"\n",
    "        super(Critic, self).__init__()\n",
    "        self.seed = torch.manual_seed(seed)\n",
    "        self.n_agents = n_agents\n",
    "        \n",
    "        self.hidden_dim_0 = 512\n",
    "        self.hidden_dim = 256\n",
    "        \n",
    "        self.lin0 = nn.Linear(state_size * self.n_agents, self.hidden_dim_0)\n",
    "        self.lin0.weight.data.uniform_(-0.01, 0.01)\n",
    "        self.lin1 = nn.Linear(self.hidden_dim_0 + action_size * self.n_agents, self.hidden_dim)\n",
    "        self.lin1.weight.data.uniform_(-0.01, 0.01)\n",
    "        self.lin2 = nn.Linear(self.hidden_dim, 1) # one single number as output\n",
    "        self.lin2.weight.data.uniform_(-0.01, 0.01)\n",
    "\n",
    "    def forward(self, state, action):\n",
    "        \"\"\"Build a critic (value) network that maps (state, action) pairs -> Q-values.\"\"\"\n",
    "        x = state.view(-1, state_size * self.n_agents) # collapse the agents' states into one big state for the NN\n",
    "        action = action.view(-1, action_size * self.n_agents)\n",
    "        x = F.relu(self.lin0(x))\n",
    "        x = torch.cat((x, action), dim=1)\n",
    "        x = F.relu(self.lin1(x))\n",
    "        return self.lin2(x)"
   ]
  },
  {
   "cell_type": "markdown",
   "metadata": {},
   "source": [
    "### 6. Define some hyper parameters\n",
    "\n",
    "In the following cell we define hyper parmeters and constants for the learning algorithm."
   ]
  },
  {
   "cell_type": "code",
   "execution_count": 8,
   "metadata": {},
   "outputs": [],
   "source": [
    "n_episodes = 3000\n",
    "replay_buffer_size = 100000\n",
    "batch_size = 128\n",
    "gamma = 0.99\n",
    "learning_rate = 0.0001\n",
    "tau = 0.1\n",
    "\n",
    "target_score = 0.5\n",
    "seed = 42"
   ]
  },
  {
   "cell_type": "markdown",
   "metadata": {},
   "source": [
    "### 7. Noise for exploration\n",
    "\n",
    "A simple helper class to generate noise based on the Ornstein-Uhlenbeck process. This is used to explore the action space.\n"
   ]
  },
  {
   "cell_type": "code",
   "execution_count": 9,
   "metadata": {},
   "outputs": [],
   "source": [
    "class OUNoise:\n",
    "    \"\"\"Ornstein-Uhlenbeck process.\"\"\"\n",
    "\n",
    "    def __init__(self, size, seed, mu=0., theta=0.15, sigma=0.2):\n",
    "        \"\"\"Initialize parameters and noise process.\"\"\"\n",
    "        self.size = size\n",
    "        self.mu = mu * np.ones(size)\n",
    "        self.theta = theta\n",
    "        self.sigma = sigma\n",
    "        self.seed = random.seed(seed)\n",
    "        self.reset()\n",
    "\n",
    "    def reset(self):\n",
    "        \"\"\"Reset the internal state (= noise) to mean (mu).\"\"\"\n",
    "        self.state = np.copy(self.mu)\n",
    "\n",
    "    def sample(self):\n",
    "        \"\"\"Update internal state and return it as a noise sample.\"\"\"\n",
    "        x = self.state\n",
    "        dx = self.theta * (self.mu - x) + self.sigma * np.random.standard_normal(self.size)\n",
    "        self.state = x + dx\n",
    "        return self.state"
   ]
  },
  {
   "cell_type": "markdown",
   "metadata": {},
   "source": [
    "### 8. The replay buffer\n",
    "\n",
    "A simple helper class for storing experience tuples and randomly draw samples from them.\n"
   ]
  },
  {
   "cell_type": "code",
   "execution_count": 10,
   "metadata": {},
   "outputs": [],
   "source": [
    "from collections import namedtuple, deque, Counter\n",
    "\n",
    "class ReplayBuffer:\n",
    "    \"\"\"Fixed-size buffer to store experience tuples.\"\"\"\n",
    "\n",
    "    def __init__(self, buffer_size, batch_size, seed):\n",
    "        \"\"\"Initialize a ReplayBuffer object.\n",
    "        Params\n",
    "        ======\n",
    "            buffer_size (int): maximum size of buffer\n",
    "            batch_size (int): size of each training batch\n",
    "        \"\"\"\n",
    "        self.memory = deque(maxlen=buffer_size)\n",
    "        self.batch_size = batch_size\n",
    "        self.experience = namedtuple(\"Experience\", field_names=[\"state\", \"action\", \"reward\", \"next_state\", \"done\"])\n",
    "        self.seed = random.seed(seed)\n",
    "    \n",
    "    def add(self, state, action, reward, next_state, done):\n",
    "        \"\"\"Add a new experience to memory.\"\"\"\n",
    "        e = self.experience(state, action, reward, next_state, done)\n",
    "        self.memory.append(e)\n",
    "    \n",
    "    def sample(self):\n",
    "        \"\"\"Randomly sample a batch of experiences from memory.\"\"\"\n",
    "        experiences = random.sample(self.memory, k=self.batch_size)\n",
    "        \n",
    "        states = torch.from_numpy(np.asarray([e.state for e in experiences if e is not None])).float().to(device)\n",
    "        actions = torch.from_numpy(np.asarray([e.action for e in experiences if e is not None])).float().to(device)\n",
    "        rewards = torch.from_numpy(np.asarray([e.reward for e in experiences if e is not None])).float().to(device)\n",
    "        next_states = torch.from_numpy(np.asarray([e.next_state for e in experiences if e is not None])).float().to(device)\n",
    "        dones = torch.from_numpy(np.asarray([e.done for e in experiences if e is not None]).astype(np.uint8)).float().to(device)\n",
    "\n",
    "        return states, actions, rewards, next_states, dones\n",
    "\n",
    "    def __len__(self):\n",
    "        \"\"\"Return the current size of internal memory.\"\"\"\n",
    "        return len(self.memory)"
   ]
  },
  {
   "cell_type": "markdown",
   "metadata": {},
   "source": [
    "### 9. Define the Agents\n",
    "The two agents are combined in one class"
   ]
  },
  {
   "cell_type": "code",
   "execution_count": 11,
   "metadata": {},
   "outputs": [],
   "source": [
    "import random \n",
    "\n",
    "class Agents():\n",
    "    \"\"\"Interact with and learns from the environment.\"\"\"\n",
    "    \n",
    "    def __init__(self, n_agents, random_seed):  \n",
    "        \"\"\"Initialize an Agents object.\n",
    "        \n",
    "        Params\n",
    "        ======\n",
    "            n_agents (int): the number of agents\n",
    "            random_seed (int): random seed\n",
    "        \"\"\"\n",
    "       \n",
    "        self.n_agents = n_agents\n",
    "        self.seed = random.seed(random_seed)\n",
    "\n",
    "        self.actor_local = Actor(n_agents, random_seed).to(device)\n",
    "        self.actor_target = Actor(n_agents, random_seed).to(device)\n",
    "        self.actor_optimizer = optim.Adam(self.actor_local.parameters(), lr=learning_rate)\n",
    "\n",
    "        self.critic_local = Critic(n_agents, random_seed).to(device)\n",
    "        self.critic_target = Critic(n_agents, random_seed).to(device)\n",
    "        self.critic_optimizer = optim.Adam(self.critic_local.parameters(), lr=learning_rate)\n",
    "\n",
    "        self.noise = OUNoise((n_agents, action_size), random_seed)\n",
    "        self.memory = ReplayBuffer(replay_buffer_size, batch_size, random_seed)\n",
    "    \n",
    "    def act(self, state):\n",
    "        \"\"\"Returns actions for given state as per current policy.\"\"\"\n",
    "        state = torch.from_numpy(state).float().to(device) \n",
    "\n",
    "        self.actor_local.eval()\n",
    "\n",
    "        with torch.no_grad():\n",
    "            action = self.actor_local(state).cpu().data.numpy()            \n",
    "\n",
    "        self.actor_local.train()\n",
    "        \n",
    "        action += self.noise.sample() # add noise to explore action space\n",
    "        action = np.clip(action, -1, 1)\n",
    "        return action\n",
    "    \n",
    "    def reset(self):\n",
    "        self.noise.reset()\n",
    "    \n",
    "    def step(self, state, action, reward, next_state, done):\n",
    "        # store all agents' experience tuples\n",
    "        self.memory.add(state, action, reward, next_state, done)\n",
    "            \n",
    "        # if there are enough tuples, get a sample and learn from it\n",
    "        if len(self.memory) >= batch_size:\n",
    "            samples = self.memory.sample()\n",
    "            self.learn(*samples)\n",
    "\n",
    "    def learn(self, states, actions, rewards, next_states, dones):\n",
    "\n",
    "        next_actions = self.actor_target(next_states) # predict actions\n",
    "        next_targets = self.critic_target(next_states, next_actions) # predict max Q values for next state    \n",
    "        targets = rewards + (gamma * next_targets * (1 - dones)) # Q values for current state\n",
    "               \n",
    "        # Compute critic loss\n",
    "        expected = self.critic_local(states, actions)\n",
    "        critic_loss = F.mse_loss(expected, targets)\n",
    "        \n",
    "        # critic step\n",
    "        self.critic_optimizer.zero_grad()\n",
    "        critic_loss.backward()\n",
    "        nn.utils.clip_grad_norm_(self.critic_local.parameters(), 1.0) # gradients tend to get too large, so clip them\n",
    "        self.critic_optimizer.step()\n",
    "\n",
    "        # Compute actor loss\n",
    "        actions_pred = self.actor_local(states)\n",
    "        actor_loss = -self.critic_local(states, actions_pred).mean()\n",
    "\n",
    "        # actor step\n",
    "        self.actor_optimizer.zero_grad()\n",
    "        actor_loss.backward()\n",
    "        nn.utils.clip_grad_norm_(self.actor_local.parameters(), 1.0) # gradients tend to get too large, so clip them\n",
    "        self.actor_optimizer.step()\n",
    "\n",
    "        # update target networks\n",
    "        self.soft_update(self.critic_local, self.critic_target)\n",
    "        self.soft_update(self.actor_local, self.actor_target)                  \n",
    "\n",
    "    def soft_update(self, local_model, target_model):\n",
    "        \"\"\"Soft update model parameters.\n",
    "        θ_target = τ*θ_local + (1 - τ)*θ_target\n",
    "\n",
    "        Params\n",
    "        ======\n",
    "            local_model: PyTorch model (weights will be copied from)\n",
    "            target_model: PyTorch model (weights will be copied to) \n",
    "        \"\"\"\n",
    "        for target_param, local_param in zip(target_model.parameters(), local_model.parameters()):\n",
    "            target_param.data.copy_(tau*local_param.data + (1.0-tau)*target_param.data)"
   ]
  },
  {
   "cell_type": "markdown",
   "metadata": {},
   "source": [
    "### 10. The Algorithm (DDPG)"
   ]
  },
  {
   "cell_type": "code",
   "execution_count": null,
   "metadata": {},
   "outputs": [
    {
     "name": "stdout",
     "output_type": "stream",
     "text": [
      "Episode 100\tAverage Score: 0.0048\n",
      "Episode 200\tAverage Score: 0.0166\n",
      "Episode 300\tAverage Score: 0.0966\n",
      "Episode 400\tAverage Score: 0.1245\n",
      "Episode 500\tAverage Score: 0.1498\n",
      "Episode 600\tAverage Score: 0.1479\n",
      "Episode 700\tAverage Score: 0.2049\n",
      "Episode 800\tAverage Score: 0.2390\n",
      "Episode 900\tAverage Score: 0.2607\n",
      "Episode 1000\tAverage Score: 0.2708\n",
      "Episode 1100\tAverage Score: 0.3417\n",
      "Episode 1200\tAverage Score: 0.3395\n",
      "Episode 1300\tAverage Score: 0.4676\n",
      "Episode 1340\tAverage Score: 0.4984\n",
      "Environment solved in 1341 episodes!\tAverage Score: 0.5054\n",
      "Episode 1400\tAverage Score: 0.4635\n",
      "Episode 1500\tAverage Score: 0.3647\n",
      "Episode 1600\tAverage Score: 0.4285\n",
      "Episode 1700\tAverage Score: 0.2715\n",
      "Episode 1800\tAverage Score: 0.4328\n",
      "Episode 1900\tAverage Score: 0.3368\n",
      "Episode 2000\tAverage Score: 0.3652\n",
      "Episode 2042\tAverage Score: 0.3641"
     ]
    }
   ],
   "source": [
    "from collections import deque\n",
    "\n",
    "scores = []\n",
    "scores_window = deque(maxlen=100)\n",
    "solved = False\n",
    "epsilon = -1\n",
    "\n",
    "env_info = env.reset(train_mode=True)[brain_name]\n",
    "n_agents = len(env_info.agents)\n",
    "agents = Agents(n_agents, seed)\n",
    "\n",
    "for episode in range(1, 1 + n_episodes):\n",
    "    env_info = env.reset(train_mode=True)[brain_name]\n",
    "    \n",
    "    state = env_info.vector_observations   \n",
    "    agents.reset()\n",
    "    \n",
    "    score = np.zeros(n_agents)\n",
    "    done = [False]\n",
    "\n",
    "    while not np.any(done):\n",
    "        action = agents.act(state)[0]\n",
    "        env_info = env.step(np.concatenate((action[0], action[1])))[brain_name] # apply action in environment\n",
    "\n",
    "        next_state = env_info.vector_observations\n",
    "        reward = env_info.rewards\n",
    "        done = env_info.local_done\n",
    "        \n",
    "        # make the agents learn\n",
    "        agents.step(state, action, reward, next_state, done)\n",
    "        \n",
    "        score += reward\n",
    "        state = next_state\n",
    "\n",
    "    scores.append(np.max(score))\n",
    "    scores_window.append(np.max(score))\n",
    "    \n",
    "    avg_score = np.mean(scores_window)\n",
    "    if avg_score > target_score:\n",
    "        torch.save(agents.actor_local.state_dict(), 'checkpoint_actor.pth')\n",
    "        torch.save(agents.critic_local.state_dict(), 'checkpoint_critic.pth')\n",
    "        np.save('scores05.npy', np.array(scores))\n",
    "        if episode > 100 and not solved:\n",
    "            solved = True\n",
    "            print('\\nEnvironment solved in {:d} episodes!\\tAverage Score: {:.4f}'.format(episode, np.mean(scores_window)))\n",
    "\n",
    "    print('\\rEpisode {}\\tAverage Score: {:.4f}'.format(episode, np.mean(scores_window)), end=\"\")\n",
    "    if episode % 100 == 0:\n",
    "        print('\\rEpisode {}\\tAverage Score: {:.4f}'.format(episode, np.mean(scores_window)))\n",
    "        \n",
    "env.close()"
   ]
  },
  {
   "cell_type": "markdown",
   "metadata": {},
   "source": [
    "### 11. Plot the score history"
   ]
  },
  {
   "cell_type": "code",
   "execution_count": 3,
   "metadata": {},
   "outputs": [
    {
     "data": {
      "text/plain": [
       "<matplotlib.legend.Legend at 0x7f8b46f262b0>"
      ]
     },
     "execution_count": 3,
     "metadata": {},
     "output_type": "execute_result"
    },
    {
     "data": {
      "image/png": "[encoded data removed]",
      "text/plain": [
       "<matplotlib.figure.Figure at 0x7f8b46f75c50>"
      ]
     },
     "metadata": {
      "needs_background": "light"
     },
     "output_type": "display_data"
    }
   ],
   "source": [
    "import matplotlib.pyplot as plt\n",
    "import numpy as np\n",
    "\n",
    "scores = np.load('scores05.npy')\n",
    "\n",
    "means = []\n",
    "for i in range(100, len(scores)):\n",
    "    means.append([i, np.mean(scores[i-100:i])])\n",
    "means = np.array(means)\n",
    "plt.figure(figsize=(10, 6))\n",
    "plt.plot(scores ,'.')\n",
    "plt.plot(means[:, 0],means[:, 1],'r')\n",
    "plt.grid()\n",
    "plt.xlabel('Episode')\n",
    "plt.ylabel('Score')\n",
    "plt.title('scores')\n",
    "plt.legend(['Episode Score', '100 Episode Averge Score'])"
   ]
  },
  {
   "cell_type": "code",
   "execution_count": null,
   "metadata": {},
   "outputs": [],
   "source": []
  }
 ],
 "metadata": {
  "kernelspec": {
   "display_name": "Python 3",
   "language": "python",
   "name": "python3"
  },
  "language_info": {
   "codemirror_mode": {
    "name": "ipython",
    "version": 3
   },
   "file_extension": ".py",
   "mimetype": "text/x-python",
   "name": "python",
   "nbconvert_exporter": "python",
   "pygments_lexer": "ipython3",
   "version": "3.6.3"
  }
 },
 "nbformat": 4,
 "nbformat_minor": 2
}
